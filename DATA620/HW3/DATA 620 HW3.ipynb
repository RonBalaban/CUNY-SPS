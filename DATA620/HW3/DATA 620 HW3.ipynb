{
 "cells": [
  {
   "cell_type": "markdown",
   "id": "61d92b29-8c4e-4ac0-b544-195dcb13f582",
   "metadata": {},
   "source": [
    "Instructions\n",
    "Centrality measures can be used to predict (positive or negative) outcomes for a node.\n",
    "\n",
    "Your task in this week’s assignment is to identify an interesting set of network data that is available on the web (either through web scraping or web APIs) that could be used for analyzing and comparing centrality measures across nodes.  As an additional constraint, there should be at least one categorical variable available for each node (such as “Male” or “Female”; “Republican”, “Democrat,” or “Undecided”, etc.)\n",
    "\n",
    "In addition to identifying your data source, you should create a high-level plan that describes how you would load the data for analysis, and describe a hypothetical outcome that could be predicted from comparing degree centrality across categorical groups. "
   ]
  },
  {
   "cell_type": "markdown",
   "id": "d8c7a80d-ad6e-4b77-a874-b9d672627a64",
   "metadata": {},
   "source": [
    "Dataset:\n",
    "https://snap.stanford.edu/data/twitch-social-networks.html\n",
    "\n",
    ">@misc{rozemberczki2019multiscale,    \n",
    "       title = {Multi-scale Attributed Node Embedding},   \n",
    "       author = {Benedek Rozemberczki and Carl Allen and Rik Sarkar},   \n",
    "       year = {2019},   \n",
    "       eprint = {1909.13021},  \n",
    "       archivePrefix = {arXiv},  \n",
    "       primaryClass = {cs.LG}   \n",
    "       }"
   ]
  },
  {
   "cell_type": "code",
   "execution_count": null,
   "id": "81442c97-0421-41ed-a3d1-7dcdbfb9dfe9",
   "metadata": {},
   "outputs": [],
   "source": [
    "import networkx as nx\n",
    "#print(\"NetworkX version:\", nx.__version__)\n",
    "import matplotlib.pyplot as plt\n",
    "import requests\n",
    "import io\n",
    "from itertools import combinations"
   ]
  },
  {
   "cell_type": "markdown",
   "id": "bb04fe7a-d32c-40bd-a14a-5fdd908f4f49",
   "metadata": {},
   "source": [
    "The dataset is about the Twitch Social Network, and these datasets are used for node classification and transfer learning, which are Twitch user-user networks of gamers who stream in a certain language. Nodes are the users themselves, and the links are mutual friendships between them. Vertex features are extracted based on the games played and liked, location, and streaming habits. Datasets share the same set of node features, which makes transfer learning across networks possible. These social networks were collected in May 2018. The dataset contains nodes and edges for Twitch streamers in multiple languages (German, English, Spanish, French, Portuguese, and Russian), but I will filter my analysis to just the English network. The said network has 7126 Nodes and 35,324 edges, with a sparse density of 0.002.\n",
    "\n",
    "This dataset works as follows; \n",
    "Each node is a Twitch user\n",
    "Each edge (from -> to) is a connection/following\n",
    "The dataset contains categorical variables such as 'mature' (whether a user has explicit language), partner (whether or not a user is an official streaming partner with Twitch).\n",
    "It also contains numerical variables such as the user ID, days (the age of the user's account), and views (the number of views their channel has)."
   ]
  },
  {
   "cell_type": "markdown",
   "id": "7106385c-3625-43f0-bd95-e9b3228aef3b",
   "metadata": {},
   "source": [
    "High-Level Plan:\n",
    "\n",
    "1) Load data in Python;  Edges/Node features/target labels from the CSV/JSON dataset files.\n",
    "2) Create a simple plot, attach node attributes (features/target labels).\n",
    "3) Compute centrality measures (Degree/Betweenness/Closeness/Eigenvector Centrality).\n",
    "\n",
    "Using degree centrality, I could determine if more popular viewers (those with more views/followers) are more or less likely to use explicit language. Or if explicit language repels viewers. I also want to see if there is a network of viewers with high degree centrality that interact with / exclusively follow each other. Alternatively, we can compare the average degree centrality between streamers who use explicit language, vs those who don't. "
   ]
  },
  {
   "cell_type": "code",
   "execution_count": null,
   "id": "a084f681-575b-49eb-a3a1-68e9c8377412",
   "metadata": {},
   "outputs": [],
   "source": []
  }
 ],
 "metadata": {
  "kernelspec": {
   "display_name": "Python 3 (ipykernel)",
   "language": "python",
   "name": "python3"
  },
  "language_info": {
   "codemirror_mode": {
    "name": "ipython",
    "version": 3
   },
   "file_extension": ".py",
   "mimetype": "text/x-python",
   "name": "python",
   "nbconvert_exporter": "python",
   "pygments_lexer": "ipython3",
   "version": "3.8.3"
  }
 },
 "nbformat": 4,
 "nbformat_minor": 5
}
